{
 "cells": [
  {
   "cell_type": "markdown",
   "metadata": {},
   "source": [
    "### Description"
   ]
  },
  {
   "cell_type": "markdown",
   "metadata": {},
   "source": [
    "1. Data transforms, features, and targets\n",
    "Now that we're familiar with our data, we need to get it prepared for machine learning.\n",
    "\n",
    "2. Making features and targets\n",
    "To prepare our data, we'll need features and targets. Our features are inputs we predict future price changes with -- the 10-day price change and volume. Our targets are the future price changes. Generally, we can use pandas DataFrames and Series in our machine learning algorithms.\n",
    "\n",
    "3. Moving averages\n",
    "It's useful to incorporate historical data as features; for example, the price changes in the last 200 days. Instead of including all previous 200 days' price changes, we can concentrate past data into a single point using technical indicators like the moving average shown here.\n",
    "\n",
    "4. Moving averages\n",
    "A moving average is the average of a value in the past n days. Classic moving average periods are 14, 50, and 200 days for stocks.\n",
    "\n",
    "5. Simple moving averages\n",
    "Here's a plot showing the AMD price and a 200-day simple moving average, or SMA. You can see moving averages smooth the data.\n",
    "\n",
    "6. Relative Strength Index\n",
    "The other indicator we'll use is relative strength index, or RSI. This oscillates between 0 and 100. When it's close to 0, this may mean the price is due to rebound from recent lows. When RSI is close to 100, this may mean the price of the stock is due to decline.\n",
    "\n",
    "7. RSI equation\n",
    "The equation for RSI is 100 minus 100 over 1 + relative strength. Relative strength is the average gain of price increases divided by the average loss of price decreases during the time period, n. Both RSI and moving averages can be calculated with the TA-lib package. This Python library is a wrapper for C code, meaning we can run C code using Python.\n",
    "\n",
    "8. Calculating SMA and RSI\n",
    "To use TA-lib's functions for RSI and moving averages, we provide a numpy array of prices and the argument timeperiod. This is the value of n mentioned in the previous slides. We're using 200 for timeperiod, and adding the new features to our DataFrame as ma200 for the 200-day moving average, and rsi200 for the 200-day RSI. For TALib functions, we must provide numpy arrays, not pandas objects. The dot-values property of pandas Series and DataFrames yields numpy arrays.\n",
    "\n",
    "9. Finally, our features\n",
    "We can now make our features and targets. We choose the 10-day close percent change and the 200-day moving average and RSI from our DataFrame. These feature names go in a list, which selects the columns from the DataFrame. Then we select the 10-day future close percent change as our target. Finally, we create a DataFrame with both the features and targets so we can check for correlations.\n",
    "\n",
    "10. Check correlations\n",
    "Before we do any machine learning, it's good to check features and targets for correlations. We use the pandas function corr() to calculate Pearson correlations, and the seaborn library has a handy heatmap function for plotting the correlations. The annot option shows the numeric values for each correlation in the plot.\n",
    "\n",
    "11. Correlation plot\n",
    "The plot looks like this, with colors ranging from black for negative correlations, to white for positive correlations. The numeric values are also shown in each square. To examine a correlation between two variables, we look for the intersection of the two variables in the plot. For example, the RSI and 10-day future price percent change intersect in the bottom left corner. These variables have little to no correlation since the value is close to 0. Usually, a value of 0-point-2 or greater means there is some linear correlation present. The diagonal line with all ones shows the correlation of each variable with itself, which is 1. This means each variable is perfectly linearly correlated with itself, as we expect.\n",
    "\n",
    "12. Let's create features and targets!\n",
    "Ok, I think you're ready to create your own features and targets!"
   ]
  },
  {
   "cell_type": "markdown",
   "metadata": {},
   "source": [
    "### Create moving average and RSI features\n",
    "\n",
    "We want to add historical data to our machine learning models to make \n",
    "better predictions, but adding lots of historical time steps is tricky. Instead, we can condense information from previous points into a single timestep with indicators.\n",
    "\n",
    "A moving average is one of the simplest indicators - it's the average of previous data points. This is the function talib.SMA() from the TAlib library.\n",
    "\n",
    "Another common technical indicator is the relative strength index (RSI). This is defined by:\n",
    "\n",
    " \n",
    "R\n",
    "S\n",
    "I\n",
    "=\n",
    "100\n",
    "−\n",
    "100\n",
    "/\n",
    "1\n",
    "+\n",
    "R\n",
    "S\n",
    "\n",
    " \n",
    "R\n",
    "S\n",
    "=\n",
    "average gain over \n",
    "n\n",
    " periods /\n",
    "average loss over \n",
    "n\n",
    " periods\n",
    "\n",
    "The n periods is set in talib.RSI() as the timeperiod argument.\n",
    "\n",
    "A common period for RSI is 14, so we'll use that as one setting in our calculations."
   ]
  },
  {
   "cell_type": "code",
   "execution_count": 4,
   "metadata": {},
   "outputs": [
    {
     "ename": "ModuleNotFoundError",
     "evalue": "No module named 'talib'",
     "output_type": "error",
     "traceback": [
      "\u001b[0;31m---------------------------------------------------------------------------\u001b[0m",
      "\u001b[0;31mModuleNotFoundError\u001b[0m                       Traceback (most recent call last)",
      "\u001b[0;32m<ipython-input-4-1ee486ccef90>\u001b[0m in \u001b[0;36m<module>\u001b[0;34m\u001b[0m\n\u001b[0;32m----> 1\u001b[0;31m \u001b[0;32mimport\u001b[0m \u001b[0mtalib\u001b[0m\u001b[0;34m\u001b[0m\u001b[0;34m\u001b[0m\u001b[0m\n\u001b[0m",
      "\u001b[0;31mModuleNotFoundError\u001b[0m: No module named 'talib'"
     ]
    }
   ],
   "source": [
    "import talib"
   ]
  },
  {
   "cell_type": "code",
   "execution_count": null,
   "metadata": {},
   "outputs": [],
   "source": [
    "feature_names = ['5d_close_pct']  # a list of the feature names for later\n",
    "\n",
    "# Create moving averages and rsi for timeperiods of 14, 30, 50, and 200\n",
    "for n in [14, 30, 50, 200]:\n",
    "\n",
    "    # Create the moving average indicator and divide by Adj_Close\n",
    "    lng_df['ma' + str(n)] = talib.SMA(lng_df['Adj_Close'].values,\n",
    "                              timeperiod=n) / lng_df['Adj_Close']\n",
    "    # Create the RSI indicator\n",
    "    lng_df['rsi' + str(n)] = talib.RSI(lng_df['Adj_Close'].values, timeperiod=n)\n",
    "    \n",
    "    # Add rsi and moving average to the feature name list\n",
    "    feature_names = feature_names + ['ma' + str(n), 'rsi' + str(n)]\n",
    "    \n",
    "print(feature_names)"
   ]
  },
  {
   "cell_type": "code",
   "execution_count": null,
   "metadata": {},
   "outputs": [],
   "source": []
  },
  {
   "cell_type": "code",
   "execution_count": null,
   "metadata": {},
   "outputs": [],
   "source": []
  },
  {
   "cell_type": "code",
   "execution_count": null,
   "metadata": {},
   "outputs": [],
   "source": []
  },
  {
   "cell_type": "code",
   "execution_count": null,
   "metadata": {},
   "outputs": [],
   "source": []
  }
 ],
 "metadata": {
  "kernelspec": {
   "display_name": "Python 3",
   "language": "python",
   "name": "python3"
  },
  "language_info": {
   "codemirror_mode": {
    "name": "ipython",
    "version": 3
   },
   "file_extension": ".py",
   "mimetype": "text/x-python",
   "name": "python",
   "nbconvert_exporter": "python",
   "pygments_lexer": "ipython3",
   "version": "3.8.5"
  }
 },
 "nbformat": 4,
 "nbformat_minor": 2
}
