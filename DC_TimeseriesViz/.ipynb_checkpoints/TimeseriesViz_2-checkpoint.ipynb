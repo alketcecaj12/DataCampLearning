{
 "cells": [
  {
   "cell_type": "markdown",
   "metadata": {},
   "source": [
    "### Find missing values\n",
    "In the field of Data Science, it is common to encounter datasets with missing values. This is especially true in the case of time series data, where missing values can occur if a measurement fails to record the value at a specific timestamp. To count the number of missing values in a DataFrame called df that contains time series data, you can use the command:\n",
    "\n",
    "missing_values = df.isnull().sum()\n",
    "In this exercise, you will learn how to find whether your data contains any missing values."
   ]
  },
  {
   "cell_type": "code",
   "execution_count": 4,
   "metadata": {},
   "outputs": [],
   "source": [
    "import pandas as pd\n",
    "import numpy as np \n",
    "import matplotlib.pyplot as plt "
   ]
  },
  {
   "cell_type": "code",
   "execution_count": 6,
   "metadata": {},
   "outputs": [
    {
     "name": "stdout",
     "output_type": "stream",
     "text": [
      "    datestamp    co2\n",
      "0  1958-03-29  316.1\n",
      "1  1958-04-05  317.3\n",
      "2  1958-04-12  317.6\n",
      "3  1958-04-19  317.5\n",
      "4  1958-04-26  316.4\n"
     ]
    }
   ],
   "source": [
    "# Read in the file content in a DataFrame called discoveries\n",
    "co2_levels = pd.read_csv('ch2_co2_levels.csv')\n",
    "\n",
    "# Display the first five lines of the DataFrame\n",
    "print(co2_levels.head())"
   ]
  },
  {
   "cell_type": "code",
   "execution_count": 7,
   "metadata": {},
   "outputs": [
    {
     "name": "stdout",
     "output_type": "stream",
     "text": [
      "    datestamp    co2\n",
      "0  1958-03-29  316.1\n",
      "1  1958-04-05  317.3\n",
      "2  1958-04-12  317.6\n",
      "3  1958-04-19  317.5\n",
      "4  1958-04-26  316.4\n",
      "5  1958-05-03  316.9\n",
      "6  1958-05-10    NaN\n"
     ]
    }
   ],
   "source": [
    "# Display first seven rows of co2_levels\n",
    "print(co2_levels.head(7))"
   ]
  },
  {
   "cell_type": "code",
   "execution_count": 8,
   "metadata": {},
   "outputs": [
    {
     "name": "stdout",
     "output_type": "stream",
     "text": [
      "co2    59\n",
      "dtype: int64\n"
     ]
    }
   ],
   "source": [
    "# Set datestamp column as index\n",
    "co2_levels = co2_levels.set_index('datestamp')\n",
    "\n",
    "# Print out the number of missing values\n",
    "print(co2_levels.isnull().sum())"
   ]
  },
  {
   "cell_type": "markdown",
   "metadata": {},
   "source": [
    "### Handle missing values\n",
    "In order to replace missing values in your time series data, you can use the command:\n",
    "\n",
    "df = df.fillna(method=\"ffill\")\n",
    "where the argument specifies the type of method you want to use. For example, specifying bfill (i.e backfilling) will ensure that missing values are replaced using the next valid observation, while ffill (i.e. forward-filling) ensures that missing values are replaced using the last valid observation.\n",
    "\n",
    "Recall from the previous exercise that co2_levels has 59 missing values."
   ]
  },
  {
   "cell_type": "code",
   "execution_count": 9,
   "metadata": {},
   "outputs": [
    {
     "name": "stdout",
     "output_type": "stream",
     "text": [
      "              co2\n",
      "datestamp        \n",
      "1958-03-29  False\n",
      "1958-04-05  False\n",
      "1958-04-12  False\n",
      "1958-04-19  False\n",
      "1958-04-26  False\n",
      "...           ...\n",
      "2001-12-01  False\n",
      "2001-12-08  False\n",
      "2001-12-15  False\n",
      "2001-12-22  False\n",
      "2001-12-29  False\n",
      "\n",
      "[2284 rows x 1 columns]\n"
     ]
    }
   ],
   "source": [
    "# Impute missing values with the next valid observation\n",
    "co2_levels = co2_levels.fillna(method='bfill')\n",
    "\n",
    "# Print out the number of missing values\n",
    "print(co2_levels.isnull())"
   ]
  },
  {
   "cell_type": "code",
   "execution_count": null,
   "metadata": {},
   "outputs": [],
   "source": []
  },
  {
   "cell_type": "code",
   "execution_count": null,
   "metadata": {},
   "outputs": [],
   "source": []
  },
  {
   "cell_type": "code",
   "execution_count": null,
   "metadata": {},
   "outputs": [],
   "source": []
  }
 ],
 "metadata": {
  "kernelspec": {
   "display_name": "Python 3",
   "language": "python",
   "name": "python3"
  },
  "language_info": {
   "codemirror_mode": {
    "name": "ipython",
    "version": 3
   },
   "file_extension": ".py",
   "mimetype": "text/x-python",
   "name": "python",
   "nbconvert_exporter": "python",
   "pygments_lexer": "ipython3",
   "version": "3.7.4"
  }
 },
 "nbformat": 4,
 "nbformat_minor": 2
}
